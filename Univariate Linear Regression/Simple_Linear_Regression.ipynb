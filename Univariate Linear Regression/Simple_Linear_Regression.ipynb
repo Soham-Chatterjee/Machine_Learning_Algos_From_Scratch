{
 "cells": [
  {
   "cell_type": "markdown",
   "metadata": {},
   "source": [
    "# Simple Linear Regression Algorithm from Scratch"
   ]
  },
  {
   "cell_type": "markdown",
   "metadata": {},
   "source": [
    "## Dataset Description"
   ]
  },
  {
   "cell_type": "markdown",
   "metadata": {},
   "source": [
    "The dataset contains the salary data based on the years of experience of an individual. It has a total of 30 samples.\n",
    "\n",
    "Since it is a univariate linear regression model, there is only one independent feature i.e., `YearsExperience`. The dependent variable, i.e., the variable we want to predict through this model is the `Salary` variable.\n",
    "\n",
    "The dataset has been taken from Kaggle contributed by Allena Venkata Sai Abhishek.\n",
    "\n",
    "Link to dataset: `https://www.kaggle.com/datasets/abhishek14398/salary-dataset-simple-linear-regression`"
   ]
  },
  {
   "cell_type": "markdown",
   "metadata": {},
   "source": [
    "### Importing necessary libraries"
   ]
  },
  {
   "cell_type": "code",
   "execution_count": 2,
   "metadata": {},
   "outputs": [],
   "source": [
    "import pandas as pd\n",
    "import numpy as np\n",
    "import matplotlib.pyplot as plt\n",
    "import math"
   ]
  },
  {
   "cell_type": "markdown",
   "metadata": {},
   "source": [
    "### Loading the dataset into a pandas dataframe"
   ]
  },
  {
   "cell_type": "code",
   "execution_count": 3,
   "metadata": {},
   "outputs": [
    {
     "data": {
      "text/html": [
       "<div>\n",
       "<style scoped>\n",
       "    .dataframe tbody tr th:only-of-type {\n",
       "        vertical-align: middle;\n",
       "    }\n",
       "\n",
       "    .dataframe tbody tr th {\n",
       "        vertical-align: top;\n",
       "    }\n",
       "\n",
       "    .dataframe thead th {\n",
       "        text-align: right;\n",
       "    }\n",
       "</style>\n",
       "<table border=\"1\" class=\"dataframe\">\n",
       "  <thead>\n",
       "    <tr style=\"text-align: right;\">\n",
       "      <th></th>\n",
       "      <th>YearsExperience</th>\n",
       "      <th>Salary</th>\n",
       "    </tr>\n",
       "  </thead>\n",
       "  <tbody>\n",
       "    <tr>\n",
       "      <th>0</th>\n",
       "      <td>1.2</td>\n",
       "      <td>39344.0</td>\n",
       "    </tr>\n",
       "    <tr>\n",
       "      <th>1</th>\n",
       "      <td>1.4</td>\n",
       "      <td>46206.0</td>\n",
       "    </tr>\n",
       "    <tr>\n",
       "      <th>2</th>\n",
       "      <td>1.6</td>\n",
       "      <td>37732.0</td>\n",
       "    </tr>\n",
       "    <tr>\n",
       "      <th>3</th>\n",
       "      <td>2.1</td>\n",
       "      <td>43526.0</td>\n",
       "    </tr>\n",
       "    <tr>\n",
       "      <th>4</th>\n",
       "      <td>2.3</td>\n",
       "      <td>39892.0</td>\n",
       "    </tr>\n",
       "  </tbody>\n",
       "</table>\n",
       "</div>"
      ],
      "text/plain": [
       "   YearsExperience   Salary\n",
       "0              1.2  39344.0\n",
       "1              1.4  46206.0\n",
       "2              1.6  37732.0\n",
       "3              2.1  43526.0\n",
       "4              2.3  39892.0"
      ]
     },
     "execution_count": 3,
     "metadata": {},
     "output_type": "execute_result"
    }
   ],
   "source": [
    "dataset = pd.read_csv(\"Salary_dataset.csv\", index_col=0)\n",
    "dataset.head(5)"
   ]
  },
  {
   "cell_type": "markdown",
   "metadata": {},
   "source": [
    "### Understanding the dataset"
   ]
  },
  {
   "cell_type": "code",
   "execution_count": 4,
   "metadata": {},
   "outputs": [
    {
     "name": "stdout",
     "output_type": "stream",
     "text": [
      "Total number of samples: 30\n",
      "Number of features: 2\n",
      "Null values: 0\n",
      "Dependent variable (y): Salary\n",
      "Independent variable (x): YearsExperience\n",
      "Average years of experience: 5.413333333333332\n",
      "Average salary: 76004.0\n"
     ]
    }
   ],
   "source": [
    "print(f\"Total number of samples: {dataset.shape[0]}\")\n",
    "print(f\"Number of features: {dataset.shape[1]}\")\n",
    "print(f\"Null values: {dataset.isnull().sum().sum()}\")\n",
    "print(f\"Dependent variable (y): {dataset.columns[-1]}\")\n",
    "print(f\"Independent variable (x): {dataset.columns[0]}\")\n",
    "print(f\"Average years of experience: {dataset.iloc[:, 0].mean()}\")\n",
    "print(f\"Average salary: {dataset.iloc[:, -1].mean()}\")"
   ]
  },
  {
   "cell_type": "markdown",
   "metadata": {},
   "source": [
    "### Plotting the data points"
   ]
  },
  {
   "cell_type": "code",
   "execution_count": 5,
   "metadata": {},
   "outputs": [
    {
     "data": {
      "image/png": "[encoded data removed]",
      "text/plain": [
       "<Figure size 640x480 with 1 Axes>"
      ]
     },
     "metadata": {},
     "output_type": "display_data"
    }
   ],
   "source": [
    "x_train = np.array(dataset.iloc[:, 0])\n",
    "y_train = np.array(dataset.iloc[:, -1])\n",
    "\n",
    "\n",
    "plt.scatter(x_train, y_train, marker='x')\n",
    "plt.xlabel(\"Years of experience\")\n",
    "plt.ylabel(\"Salary\")\n",
    "plt.title(\"Years of experience vs Salary\")\n",
    "plt.show()"
   ]
  },
  {
   "cell_type": "markdown",
   "metadata": {},
   "source": [
    "## The Linear Regression Algorithm"
   ]
  },
  {
   "cell_type": "markdown",
   "metadata": {},
   "source": [
    "Linear regression is a basic statistical algorithm used to find relationships between two things, like how one changes when the other changes. Imagine you’re studying how the number of hours someone studies affects their exam scores. You collect data from several students, plot it on a graph, and notice that as study hours increase, exam scores also tend to go up. Linear regression helps you draw the best-fitting straight line through those points, called the \"line of best fit.\" This line summarizes the relationship, making it easier to predict an exam score based on the number of hours studied.\n",
    "\n",
    "Another example could be predicting the cost of a house based on its size. If you gather data on house sizes and their prices, you can plot the data points and use linear regression to find a line that shows how price changes with size. Once you have this line, you can estimate the price of a house of a specific size.\n",
    "\n",
    "The method works by minimizing the differences between the actual data points and the values predicted by the line. These differences are called \"errors\" or \"residuals.\" Linear regression is widely used because it’s simple yet effective in many real-world scenarios, such as forecasting sales based on advertising spend, estimating fuel consumption based on speed, or predicting crop yield based on rainfall. It’s like a tool for finding patterns and making educated guesses based on past data."
   ]
  },
  {
   "cell_type": "markdown",
   "metadata": {},
   "source": [
    "### Simple vs Multiple Linear Regression"
   ]
  },
  {
   "cell_type": "markdown",
   "metadata": {},
   "source": [
    "Linear Regression is broadly classified into two types:\n",
    "- Simple Linear Regression\n",
    "- Multiple Linear Regression"
   ]
  },
  {
   "cell_type": "markdown",
   "metadata": {},
   "source": [
    "#### Simple Linear Regression\n",
    "\n",
    "In this case, we use only one independent variable, like years of experience, to predict one dependent variable, salary. The relationship can be represented as:\n",
    "\n",
    "$$\\hat y = wX + b$$\n",
    "\n",
    "Here:\n",
    "\n",
    "- $\\hat y$ is the predicted salary.\n",
    "- $X$ is the input (years of experience).\n",
    "- $w$ is the weight (slope of the line).\n",
    "- $b$ is the bias (y-intercept).\n",
    "\n",
    "For example, if we gather data showing how salaries vary with experience and plot it, linear regression finds the straight line that best fits the points. This allows us to predict the salary for someone with, say, 5 years of experience."
   ]
  },
  {
   "cell_type": "markdown",
   "metadata": {},
   "source": [
    "#### Multiple Linear Regression\n",
    "\n",
    "When there are multiple factors influencing the salary, such as years of experience, education level, and number of certifications, we use multiple linear regression. The equation extends to:\n",
    "\n",
    "$$\\hat y = w_1X_1 + w_2X_2 + ... + w_nX_n + b$$\n",
    "\n",
    "Here:\n",
    "- $X_1$, $X_2$, ..., $X_n$ are the input features (years of experience, education level, certifications, etc.)\n",
    "- $w_1$, $w_2$, ..., $w_n$ are the corresponding weights for each feature\n",
    "\n",
    "This approach helps to capture the combined effect of multiple factors on the salary"
   ]
  },
  {
   "cell_type": "markdown",
   "metadata": {},
   "source": [
    "### The Squared Error Cost Function\n",
    "\n",
    "The quality of our predictions is measured using the squared error cost function:\n",
    "\n",
    "$$ J(w, b) = \\dfrac{1}{2m}\\sum_{i=1}^{m} (\\hat y_i - y_i)^2 $$\n",
    "\n",
    "Here:\n",
    "\n",
    "- $\\hat y_i$ is the predicted salary of the $i^{th}$ data sample\n",
    "- $y_i$ is the actual salary of the $i^{th}$ data sample\n",
    "- $m$ is the total number of data samples\n",
    "\n",
    "This function calculates the average squared difference between the predicted and actual salaries. The goal of linear regression is to minimize this cost."
   ]
  },
  {
   "cell_type": "code",
   "execution_count": 6,
   "metadata": {},
   "outputs": [],
   "source": [
    "def cost_function(x, y, w, b):\n",
    "    m = x.shape[0]\n",
    "\n",
    "    total_cost = 0\n",
    "    for i in range(m):\n",
    "        y_pred = w * x[i] + b\n",
    "        sq_err = (y_pred - y[i])**2\n",
    "        total_cost += sq_err\n",
    "\n",
    "    return total_cost/(2*m)"
   ]
  },
  {
   "cell_type": "markdown",
   "metadata": {},
   "source": [
    "### The Gradient Descent Algorithm\n",
    "\n",
    "To find the best values for $w$ and $b$, we use the gradient descent algorithm. It updates the weights and bias iteratively to reduce the cost function obtained above. The updates are calculated as:\n",
    "\n",
    "$$w = w - \\alpha \\dfrac{\\delta J}{\\delta w}$$\n",
    "$$b = b - \\alpha \\dfrac{\\delta J}{\\delta b}$$\n",
    "\n",
    "Here:\n",
    "\n",
    "- $\\alpha$ is the learning rate, which tells the algorithm how big of a step should it take in the next iteration\n",
    "- $\\dfrac{\\delta J}{\\delta w}$ and $\\dfrac{\\delta J}{\\delta b}$ are the gradients of the cost function with respect to $w$ and $b$\n",
    "\n",
    "These updates are performed unless the gradient descent algorithm reaches at a minimum or unless it converges. Altogether, the algorithm becomes:\n",
    "\n",
    "$$repeat\\hspace{0.15cm}until\\hspace{0.15cm}convergence\\hspace{0.15cm}\\{$$\n",
    "$$w = w - \\alpha \\dfrac{\\delta J}{\\delta w}$$\n",
    "$$b = b - \\alpha \\dfrac{\\delta J}{\\delta b}$$\n",
    "$$\\}$$\n",
    "\n",
    "The values of $\\dfrac{\\delta J}{\\delta w}$ and $\\dfrac{\\delta J}{\\delta b}$, after calculation come out to be:\n",
    "\n",
    "$$\\dfrac{\\delta J}{\\delta w} = \\dfrac{1}{m}\\sum_{i=1}^{m}(\\hat y_i - y_i)x_i$$\n",
    "$$\\dfrac{\\delta J}{\\delta b} = \\dfrac{1}{m}\\sum_{i=1}^{m}(\\hat y_i - y_i)$$\n",
    "\n",
    "In our case, the gradient descent algorithm will keep on adjusting the values of w and b for the number of iterations we specify to it. Finally, it would return us a value of $w$ and $b$"
   ]
  },
  {
   "cell_type": "code",
   "execution_count": 7,
   "metadata": {},
   "outputs": [],
   "source": [
    "def gradient_function(x, y, w, b):\n",
    "    m = x.shape[0]\n",
    "    grad_w = 0\n",
    "    grad_b = 0\n",
    "    for i in range(m):\n",
    "        y_pred = w*x[i] + b\n",
    "        term_w = (y_pred - y[i])*x[i]\n",
    "        term_b = y_pred - y[i]\n",
    "        grad_w += term_w\n",
    "        grad_b += term_b\n",
    "\n",
    "    return grad_w/m, grad_b/m"
   ]
  },
  {
   "cell_type": "code",
   "execution_count": 8,
   "metadata": {},
   "outputs": [],
   "source": [
    "def gradient_descent(x, y, cost_function, gradient_function, w_in=0, b_in=0, alpha=0.01, num_iters=10000):\n",
    "    cost_history = [] # Saving the cost at each iteration for plotting of graph in further steps\n",
    "    w = w_in\n",
    "    b = b_in\n",
    "    for iteration in range(num_iters):\n",
    "        grad_w, grad_b = gradient_function(x, y, w, b)\n",
    "        w = w - alpha * grad_w\n",
    "        b = b - alpha * grad_b\n",
    "        if num_iters < 100000:\n",
    "            cost_history.append(cost_function(x, y, w, b))\n",
    "        if iteration % math.ceil(num_iters/10) == 0:\n",
    "            print(f\"Iteration {iteration}: Cost {cost_history[-1]:0.2e} \", f\"grad_w: {grad_w: 0.3e}, grad_b: {grad_b: 0.3e}  \",\n",
    "                  f\"w: {w: 0.3e}, b:{b: 0.5e}\")\n",
    "            \n",
    "        \n",
    "    return w, b, cost_history"
   ]
  },
  {
   "cell_type": "code",
   "execution_count": 9,
   "metadata": {},
   "outputs": [
    {
     "name": "stdout",
     "output_type": "stream",
     "text": [
      "Iteration 0: Cost 1.30e+09  grad_w: -4.850e+05, grad_b: -7.600e+04   w:  4.850e+03, b: 7.60040e+02\n",
      "Iteration 1000: Cost 1.65e+07  grad_w:  8.854e+01, grad_b: -6.033e+02   w:  9.880e+03, b: 2.19186e+04\n",
      "Iteration 2000: Cost 1.57e+07  grad_w:  1.132e+01, grad_b: -7.711e+01   w:  9.505e+03, b: 2.44737e+04\n",
      "Iteration 3000: Cost 1.56e+07  grad_w:  1.447e+00, grad_b: -9.856e+00   w:  9.457e+03, b: 2.48003e+04\n",
      "Iteration 4000: Cost 1.56e+07  grad_w:  1.849e-01, grad_b: -1.260e+00   w:  9.451e+03, b: 2.48421e+04\n",
      "Iteration 5000: Cost 1.56e+07  grad_w:  2.363e-02, grad_b: -1.610e-01   w:  9.450e+03, b: 2.48474e+04\n",
      "Iteration 6000: Cost 1.56e+07  grad_w:  3.021e-03, grad_b: -2.058e-02   w:  9.450e+03, b: 2.48481e+04\n",
      "Iteration 7000: Cost 1.56e+07  grad_w:  3.862e-04, grad_b: -2.631e-03   w:  9.450e+03, b: 2.48482e+04\n",
      "Iteration 8000: Cost 1.56e+07  grad_w:  4.936e-05, grad_b: -3.363e-04   w:  9.450e+03, b: 2.48482e+04\n",
      "Iteration 9000: Cost 1.56e+07  grad_w:  6.309e-06, grad_b: -4.299e-05   w:  9.450e+03, b: 2.48482e+04\n",
      "\n",
      "Final calculated w and b with learning rate as 0.01 and after 10000 iterations:\n",
      "w: 9449.962325379338\n",
      "b: 24848.203939785166\n"
     ]
    }
   ],
   "source": [
    "w_init = 0\n",
    "b_init = 0\n",
    "alpha = 0.01\n",
    "iters = 10000\n",
    "\n",
    "w_final, b_final, cost_history = gradient_descent(x_train, y_train, cost_function, gradient_function, w_init, b_init, alpha, iters)\n",
    "\n",
    "print(f\"\\nFinal calculated w and b with learning rate as {alpha} and after {iters} iterations:\\nw: {w_final}\\nb: {b_final}\")"
   ]
  },
  {
   "cell_type": "markdown",
   "metadata": {},
   "source": [
    "#### Plotting the value of the cost function vs the iteration number"
   ]
  },
  {
   "cell_type": "code",
   "execution_count": 10,
   "metadata": {},
   "outputs": [
    {
     "data": {
      "image/png": "[encoded data removed]",
      "text/plain": [
       "<Figure size 1200x400 with 2 Axes>"
      ]
     },
     "metadata": {},
     "output_type": "display_data"
    }
   ],
   "source": [
    "fig, (ax1, ax2) = plt.subplots(1, 2, constrained_layout=True, figsize=(12,4))\n",
    "ax1.plot(cost_history[:100])\n",
    "ax2.plot(1000 + np.arange(len(cost_history[1000:])), cost_history[1000:])\n",
    "ax1.set_title(\"Cost vs. iteration(start)\");  ax2.set_title(\"Cost vs. iteration (end)\")\n",
    "ax1.set_ylabel('Cost')            ;  ax2.set_ylabel('Cost') \n",
    "ax1.set_xlabel('Iteration step')  ;  ax2.set_xlabel('Iteration step') \n",
    "plt.show()"
   ]
  },
  {
   "cell_type": "markdown",
   "metadata": {},
   "source": [
    "## Putting together everything\n",
    "\n",
    "Now that we have our cost function as well as the gradient descent algorithm ready, we can now put everything together to write the whole Linear Regression model and test it against our training data to evaluate how it performs.\n",
    "\n",
    "For the evaluation, we shall be using $R^2$ score evaluation method. The $R^2$ score is defined as:\n",
    "\n",
    "$$(1 - \\dfrac{u}{v})$$\n",
    "\n",
    "where:\n",
    "\n",
    "- $u$ is the residual sum of squares\n",
    "- $v$ is the total sum of squares\n",
    "\n",
    "$u$ and $v$ are calculated as:\n",
    "\n",
    "$$ u = \\sum_{i=1}^{m}(y_i - \\hat y_i)^2$$\n",
    "$$ v = \\sum_{i=1}^{m}(y_i - \\bar y)^2$$\n",
    "\n",
    "Here:\n",
    "- $\\hat y_i$ is the predicted salary of the $i^{th}$ data sample\n",
    "- $y_i$ is the actual salary of the $i^{th}$ data sample\n",
    "- $\\bar y$ is the mean of the actual salaries of all the samples\n",
    "- $m$ is the total number of data samples\n",
    "\n",
    "The best possible score is 1.0 and it can be negative (because the model can be arbitrarily worse). A constant model that always predicts the expected value of `y`, disregarding the input features, would get a score of 0.0."
   ]
  },
  {
   "cell_type": "code",
   "execution_count": 11,
   "metadata": {},
   "outputs": [],
   "source": [
    "class UnivariateLinearRegression:\n",
    "    def __init__(self, w_in:int, b_in:int, alpha:float, num_iters:int):\n",
    "        self.w_in = w_in\n",
    "        self.b_in = b_in\n",
    "        self.w_final = None\n",
    "        self.b_final = None\n",
    "        self.alpha = alpha\n",
    "        self.num_iters = num_iters\n",
    "        self.predicted = None\n",
    "\n",
    "    def cost_function(self, x, y, w, b):\n",
    "        m = x.shape[0]\n",
    "\n",
    "        total_cost = 0\n",
    "        for i in range(m):\n",
    "            y_pred = w * x[i] + b\n",
    "            sq_err = (y_pred - y[i])**2\n",
    "            total_cost += sq_err\n",
    "\n",
    "        return total_cost/(2*m)\n",
    "    \n",
    "    def gradient_function(self, x, y, w, b):\n",
    "        m = x.shape[0]\n",
    "        grad_w = 0\n",
    "        grad_b = 0\n",
    "        for i in range(m):\n",
    "            y_pred = w*x[i] + b\n",
    "            term_w = (y_pred - y[i])*x[i]\n",
    "            term_b = y_pred - y[i]\n",
    "            grad_w += term_w\n",
    "            grad_b += term_b\n",
    "\n",
    "        return grad_w/m, grad_b/m\n",
    "        \n",
    "        \n",
    "    def fit(self, x, y):\n",
    "        w = self.w_in\n",
    "        b = self.b_in\n",
    "\n",
    "        for iteration in range(self.num_iters):\n",
    "            grad_w, grad_b = self.gradient_function(x, y, w, b)\n",
    "            w = w - self.alpha * grad_w\n",
    "            b = b - self.alpha * grad_b\n",
    "            if iteration % math.ceil(self.num_iters/10) == 0:\n",
    "                print(f\"Iteration {iteration}: Cost {cost_history[-1]:0.2e} \", f\"grad_w: {grad_w: 0.3e}, grad_b: {grad_b: 0.3e}  \",\n",
    "                    f\"w: {w: 0.3e}, b:{b: 0.5e}\")\n",
    "                \n",
    "        self.w_final = w\n",
    "        self.b_final = b\n",
    "\n",
    "        return self\n",
    "\n",
    "    def predict(self, x):\n",
    "        if self.w_final is None or self.b_final is None:\n",
    "            print(\"ERROR: Model not trained\")\n",
    "            return self.predicted\n",
    "        self.predicted = np.zeros(x.shape[0])\n",
    "        for i in range(len(self.predicted)):\n",
    "            self.predicted[i] = self.w_final * x[i] + self.b_final\n",
    "\n",
    "        return self.predicted\n",
    "    \n",
    "    def score(self, x, y):\n",
    "        if self.predicted is None:\n",
    "            self.fit(x, y)\n",
    "            self.predicted = self.predict(x)\n",
    "\n",
    "        u = ((y - self.predicted)**2).sum()\n",
    "        v = ((y - y.mean()) ** 2).sum()\n",
    "        \n",
    "        return (1 - (u/v))\n",
    "    \n",
    "    def plot(self, x, y):\n",
    "        if self.predicted is None:\n",
    "            self.fit(x, y)\n",
    "            self.predicted = self.predict(x)\n",
    "\n",
    "        plt.plot(x, self.predicted, c='r')\n",
    "        plt.scatter(x, y, c='b', marker='x')\n",
    "        plt.title(\"Regression line\")\n",
    "        plt.show()\n",
    "        "
   ]
  },
  {
   "cell_type": "code",
   "execution_count": 12,
   "metadata": {},
   "outputs": [
    {
     "name": "stdout",
     "output_type": "stream",
     "text": [
      "Iteration 0: Cost 1.56e+07  grad_w: -4.850e+05, grad_b: -7.600e+04   w:  4.850e+03, b: 7.60040e+02\n",
      "Iteration 1000: Cost 1.56e+07  grad_w:  8.854e+01, grad_b: -6.033e+02   w:  9.880e+03, b: 2.19186e+04\n",
      "Iteration 2000: Cost 1.56e+07  grad_w:  1.132e+01, grad_b: -7.711e+01   w:  9.505e+03, b: 2.44737e+04\n",
      "Iteration 3000: Cost 1.56e+07  grad_w:  1.447e+00, grad_b: -9.856e+00   w:  9.457e+03, b: 2.48003e+04\n",
      "Iteration 4000: Cost 1.56e+07  grad_w:  1.849e-01, grad_b: -1.260e+00   w:  9.451e+03, b: 2.48421e+04\n",
      "Iteration 5000: Cost 1.56e+07  grad_w:  2.363e-02, grad_b: -1.610e-01   w:  9.450e+03, b: 2.48474e+04\n",
      "Iteration 6000: Cost 1.56e+07  grad_w:  3.021e-03, grad_b: -2.058e-02   w:  9.450e+03, b: 2.48481e+04\n",
      "Iteration 7000: Cost 1.56e+07  grad_w:  3.862e-04, grad_b: -2.631e-03   w:  9.450e+03, b: 2.48482e+04\n",
      "Iteration 8000: Cost 1.56e+07  grad_w:  4.936e-05, grad_b: -3.363e-04   w:  9.450e+03, b: 2.48482e+04\n",
      "Iteration 9000: Cost 1.56e+07  grad_w:  6.309e-06, grad_b: -4.299e-05   w:  9.450e+03, b: 2.48482e+04\n",
      "\n",
      "Regression plot:\n",
      "\n"
     ]
    },
    {
     "data": {
      "image/png": "[encoded data removed]",
      "text/plain": [
       "<Figure size 640x480 with 1 Axes>"
      ]
     },
     "metadata": {},
     "output_type": "display_data"
    },
    {
     "name": "stdout",
     "output_type": "stream",
     "text": [
      "R2 score: 0.96\n"
     ]
    }
   ],
   "source": [
    "model = UnivariateLinearRegression(w_init, b_init, alpha, iters)\n",
    "\n",
    "model.fit(x_train, y_train)\n",
    "\n",
    "y_pred = model.predict(x_train)\n",
    "\n",
    "print(f\"\\nRegression plot:\\n\")\n",
    "\n",
    "model.plot(x_train, y_train)\n",
    "\n",
    "score = model.score(x_train, y_train)\n",
    "\n",
    "print(f\"R2 score: {score:.2f}\")"
   ]
  },
  {
   "cell_type": "markdown",
   "metadata": {},
   "source": [
    "### Example workflow in any case of linear regression\n",
    "\n",
    "- Collect Data: Suppose you have data for 100 individuals, including their years of experience and salaries.\n",
    "- Fit the Model: Use the data to train the regression model by minimizing the cost function using an algorithm such as gradient descent.\n",
    "- Prediction: After training, the model might predict that someone with 5 years of experience earns ₹50,000, while someone with 10 years earns ₹80,000.\n",
    "- Extension to Multivariate: If additional features like education and certifications are included, the model can provide more refined predictions by capturing their combined influence."
   ]
  },
  {
   "cell_type": "markdown",
   "metadata": {},
   "source": [
    "## Using the model to predict the salary of an individual given the years of experience"
   ]
  },
  {
   "cell_type": "code",
   "execution_count": 13,
   "metadata": {},
   "outputs": [
    {
     "name": "stdout",
     "output_type": "stream",
     "text": [
      "\n",
      "Salary of individual with 4.7 years of experience will be 69263.03\n"
     ]
    }
   ],
   "source": [
    "years_of_exp = 4.7\n",
    "prediction = model.predict(np.array([years_of_exp]))\n",
    "\n",
    "print(f\"\\nSalary of individual with {years_of_exp} years of experience will be {prediction[0]:.2f}\")"
   ]
  },
  {
   "cell_type": "markdown",
   "metadata": {},
   "source": [
    "# Thank You!"
   ]
  }
 ],
 "metadata": {
  "kernelspec": {
   "display_name": "Python 3",
   "language": "python",
   "name": "python3"
  },
  "language_info": {
   "codemirror_mode": {
    "name": "ipython",
    "version": 3
   },
   "file_extension": ".py",
   "mimetype": "text/x-python",
   "name": "python",
   "nbconvert_exporter": "python",
   "pygments_lexer": "ipython3",
   "version": "3.10.6"
  }
 },
 "nbformat": 4,
 "nbformat_minor": 2
}
